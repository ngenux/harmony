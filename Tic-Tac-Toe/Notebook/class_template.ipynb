{
 "cells": [
  {
   "cell_type": "code",
   "execution_count": 9,
   "metadata": {},
   "outputs": [],
   "source": [
    "class GAME_INITIALIZATION():\n",
    "    def __init__(self):\n",
    "        \n",
    "        self.player1= input(\"please enter first player name\")\n",
    "        self.player2= input(\"please enter second player name\")\n",
    "    \n",
    "    def choose_player_to_play_first(self):\n",
    "        \"\"\"\n",
    "        write the logic to \n",
    "        1) print first player name\n",
    "        2) return order of preference to play(x,y or y,x)\n",
    "        \"\"\"\n",
    "        pass\n",
    "\n",
    "    def play(self):\n",
    "        player1, player2= self.choose_player_to_play_first()\n",
    "        # GAME_SECTION(player1,player2)\n",
    "        "
   ]
  },
  {
   "cell_type": "code",
   "execution_count": 1,
   "metadata": {},
   "outputs": [
    {
     "ename": "IndentationError",
     "evalue": "expected an indented block (Temp/ipykernel_25108/3760725227.py, line 13)",
     "output_type": "error",
     "traceback": [
      "\u001b[1;36m  File \u001b[1;32m\"C:\\Users\\ANVESH~1\\AppData\\Local\\Temp/ipykernel_25108/3760725227.py\"\u001b[1;36m, line \u001b[1;32m13\u001b[0m\n\u001b[1;33m    \u001b[0m\n\u001b[1;37m    ^\u001b[0m\n\u001b[1;31mIndentationError\u001b[0m\u001b[1;31m:\u001b[0m expected an indented block\n"
     ]
    }
   ],
   "source": [
    "class GAME_SECTION():\n",
    "    def __init__(self,player1,player2):\n",
    "        self.player1= player1\n",
    "        self.player2= player2\n",
    "        # self.board= 3x3 array\n",
    "        # self.winning_positions write the logical order\n",
    "\n",
    "    def ask_player_to_move(self):\n",
    "        # print(input(\"give position for player\"))\n",
    "        pass\n",
    "    \n",
    "    def validate_move_position(self,position):\n",
    "        \"\"\"\n",
    "        write logic to see if the position fits into board\n",
    "        \"\"\"\n",
    "        pass\n",
    "\n",
    "    def check_win_condition(self):\n",
    "        \"\"\"\n",
    "        checks after a move that it falls into win condition\n",
    "        \"\"\"\n",
    "        pass\n",
    "    \n",
    "    def check_draw_condition(self):\n",
    "        pass\n",
    "\n",
    "    def update_the_board(self,position):\n",
    "        pass\n",
    "\n",
    "\n"
   ]
  },
  {
   "cell_type": "code",
   "execution_count": null,
   "metadata": {},
   "outputs": [],
   "source": []
  }
 ],
 "metadata": {
  "kernelspec": {
   "display_name": "base",
   "language": "python",
   "name": "python3"
  },
  "language_info": {
   "codemirror_mode": {
    "name": "ipython",
    "version": 3
   },
   "file_extension": ".py",
   "mimetype": "text/x-python",
   "name": "python",
   "nbconvert_exporter": "python",
   "pygments_lexer": "ipython3",
   "version": "3.9.7"
  },
  "orig_nbformat": 4,
  "vscode": {
   "interpreter": {
    "hash": "95b99adb2620cb5fda8c7fd57795557e118e03a39318be270c7ae8eb44f5d34f"
   }
  }
 },
 "nbformat": 4,
 "nbformat_minor": 2
}
